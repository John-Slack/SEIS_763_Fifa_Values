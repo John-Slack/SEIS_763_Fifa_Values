{
  "nbformat": 4,
  "nbformat_minor": 0,
  "metadata": {
    "colab": {
      "name": "randomForestReg.ipynb",
      "provenance": []
    },
    "kernelspec": {
      "name": "python3",
      "display_name": "Python 3"
    },
    "language_info": {
      "name": "python"
    }
  },
  "cells": [
    {
      "cell_type": "code",
      "source": [
        "'''\n",
        "\n",
        "'''\n",
        "#=========== Preparing Data ======================#\n",
        "y = new_Response_DF_svm\n",
        "X = new_X_DF.drop(['NRM_Position_ATT','NRM_Position_GK','NRM_Position_MID','NRM_Position_DEF'],axis=1)\n",
        "\n",
        "print(X.shape)\n",
        "print(y.shape)"
      ],
      "metadata": {
        "colab": {
          "base_uri": "https://localhost:8080/"
        },
        "id": "G5iltpQHOuOb",
        "outputId": "5e85cdf2-5184-42a6-9781-082f849a5aa9"
      },
      "execution_count": null,
      "outputs": [
        {
          "output_type": "stream",
          "name": "stdout",
          "text": [
            "(17478, 107)\n",
            "(17478,)\n"
          ]
        }
      ]
    },
    {
      "cell_type": "code",
      "source": [
        "yDF = []\n",
        "\n",
        "for i in y:\n",
        "    if(i == 'ATT'):\n",
        "      data = 0\n",
        "      yDF.append(data)\n",
        "    elif(i == 'MID'):\n",
        "      data = 1\n",
        "      yDF.append(data)\n",
        "    elif(i == 'DEF'):\n",
        "      data = 2\n",
        "      yDF.append(data)\n",
        "    else:\n",
        "      data = 3\n",
        "      yDF.append(data)\n",
        "        \n",
        "y_1 = yDF"
      ],
      "metadata": {
        "id": "bRw29tiPRgQZ"
      },
      "execution_count": null,
      "outputs": []
    },
    {
      "cell_type": "code",
      "source": [
        "# Import the model we are using\n",
        "from sklearn.ensemble import RandomForestRegressor\n",
        "from sklearn.metrics import mean_absolute_error, mean_squared_error\n",
        "\n",
        "# Split training and testing\n",
        "X_train, X_test, y_train, y_test = train_test_split(X, y_1, test_size=0.20, random_state=42)\n",
        "\n",
        "# Instantiate model with 100 decision trees\n",
        "rf = RandomForestRegressor(n_estimators = 100, random_state = 42)\n",
        "\n",
        "# Train the model on training data\n",
        "rf.fit(X_test, y_test);"
      ],
      "metadata": {
        "id": "tmFAFl_ZYSA2"
      },
      "execution_count": null,
      "outputs": []
    },
    {
      "cell_type": "code",
      "source": [
        "# Use the forest's predict method on the test data\n",
        "predictions = rf.predict(X_test)\n",
        "\n",
        "mean_abst_error = mean_absolute_error(y_test, predictions)\n",
        "\n",
        "mean_sqrd_error = mean_squared_error(y_test, predictions)\n",
        "\n",
        "score = rf.score(X_test, y_test)\n",
        "\n",
        "print(\" Mean Absolute Error : {}\".format(mean_abst_error))\n",
        "print(\" Mean Squared Error: {}\".format(mean_sqrd_error))\n",
        "print(\" Model Accuracy : {}\".format(score))"
      ],
      "metadata": {
        "colab": {
          "base_uri": "https://localhost:8080/"
        },
        "id": "Ii8wS238PQ7y",
        "outputId": "578c6435-4580-4cc2-a88a-72ffaae7059e"
      },
      "execution_count": null,
      "outputs": [
        {
          "output_type": "stream",
          "name": "stdout",
          "text": [
            " Mean Absolute Error : 0.2549456521739131\n",
            " Mean Squared Error: 0.10222245423340962\n",
            " Model Accuracy : 0.8537840941266792\n"
          ]
        }
      ]
    }
  ]
}