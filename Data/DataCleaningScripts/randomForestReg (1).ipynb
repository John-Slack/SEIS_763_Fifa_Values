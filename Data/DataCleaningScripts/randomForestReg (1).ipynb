{
  "nbformat": 4,
  "nbformat_minor": 0,
  "metadata": {
    "colab": {
      "name": "randomForestReg.ipynb",
      "provenance": [],
      "collapsed_sections": []
    },
    "kernelspec": {
      "name": "python3",
      "display_name": "Python 3"
    },
    "language_info": {
      "name": "python"
    }
  },
  "cells": [
    {
      "cell_type": "code",
      "source": [
        "'''\n",
        "\n",
        "'''\n",
        "#=========== Preparing Data ======================#\n",
        "y = new_Response_DF_svm\n",
        "X = new_X_DF.drop(['NRM_Position_ATT','NRM_Position_GK','NRM_Position_MID','NRM_Position_DEF'],axis=1)\n",
        "\n",
        "print(X.shape)\n",
        "print(y.shape)"
      ],
      "metadata": {
        "colab": {
          "base_uri": "https://localhost:8080/"
        },
        "id": "G5iltpQHOuOb",
        "outputId": "5e85cdf2-5184-42a6-9781-082f849a5aa9"
      },
      "execution_count": null,
      "outputs": [
        {
          "output_type": "stream",
          "name": "stdout",
          "text": [
            "(17478, 107)\n",
            "(17478,)\n"
          ]
        }
      ]
    },
    {
      "cell_type": "code",
      "source": [
        "yDF = []\n",
        "\n",
        "for i in y:\n",
        "    if(i == 'ATT'):\n",
        "      data = 0\n",
        "      yDF.append(data)\n",
        "    elif(i == 'MID'):\n",
        "      data = 1\n",
        "      yDF.append(data)\n",
        "    elif(i == 'DEF'):\n",
        "      data = 2\n",
        "      yDF.append(data)\n",
        "    else:\n",
        "      data = 3\n",
        "      yDF.append(data)\n",
        "        \n",
        "y_1 = yDF"
      ],
      "metadata": {
        "id": "bRw29tiPRgQZ"
      },
      "execution_count": null,
      "outputs": []
    },
    {
      "cell_type": "code",
      "source": [
        "# Import the model we are using\n",
        "from sklearn.ensemble import RandomForestRegressor\n",
        "from sklearn.metrics import mean_absolute_error, mean_squared_error\n",
        "\n",
        "# Split training and testing\n",
        "X_train, X_test, y_train, y_test = train_test_split(X, y_1, test_size=0.20, random_state=42)\n",
        "\n",
        "# Instantiate model with 100 decision trees\n",
        "rf = RandomForestRegressor(n_estimators = 100, random_state = 42)\n",
        "\n",
        "# Train the model on training data\n",
        "rf.fit(X_test, y_test);"
      ],
      "metadata": {
        "id": "tmFAFl_ZYSA2"
      },
      "execution_count": null,
      "outputs": []
    },
    {
      "cell_type": "code",
      "source": [
        "# Use the forest's predict method on the test data\n",
        "predictions = rf.predict(X_test)\n",
        "\n",
        "mean_abst_error = mean_absolute_error(y_test, predictions)\n",
        "\n",
        "mean_sqrd_error = mean_squared_error(y_test, predictions)\n",
        "\n",
        "score = rf.score(X_test, y_test)\n",
        "\n",
        "print(\" Mean Absolute Error : {}\".format(mean_abst_error))\n",
        "print(\" Mean Squared Error: {}\".format(mean_sqrd_error))\n",
        "print(\" Model Accuracy : {}\".format(score))"
      ],
      "metadata": {
        "colab": {
          "base_uri": "https://localhost:8080/"
        },
        "id": "Ii8wS238PQ7y",
        "outputId": "578c6435-4580-4cc2-a88a-72ffaae7059e"
      },
      "execution_count": null,
      "outputs": [
        {
          "output_type": "stream",
          "name": "stdout",
          "text": [
            " Mean Absolute Error : 0.2549456521739131\n",
            " Mean Squared Error: 0.10222245423340962\n",
            " Model Accuracy : 0.8537840941266792\n"
          ]
        }
      ]
    },
    {
      "cell_type": "code",
      "source": [
        "# Random Forest for Classifier\n",
        "y = new_Response_DF_svm\n",
        "X = new_X_DF.drop(['NRM_Position_ATT','NRM_Position_GK','NRM_Position_MID','NRM_Position_DEF'],axis=1)\n",
        "\n",
        "X_train, X_test, y_train, y_test = train_test_split(X, y, test_size=0.20, random_state=42)"
      ],
      "metadata": {
        "id": "jVE2Xs79Njo5"
      },
      "execution_count": null,
      "outputs": []
    },
    {
      "cell_type": "code",
      "source": [
        "%%time\n",
        "from sklearn.ensemble import RandomForestClassifier\n",
        "\n",
        "rfc = RandomForestClassifier(n_estimators = 100, random_state = 42)\n",
        "\n",
        "rfc.fit(X_train, y_train)"
      ],
      "metadata": {
        "id": "1n1c9FJ6s-it"
      },
      "execution_count": null,
      "outputs": []
    },
    {
      "cell_type": "code",
      "source": [
        "y_pred = rfc.predict(X_test)\n",
        "\n",
        "score = rfc.score(X_test, y_test)\n",
        "\n",
        "print(\"Model Accuracy : {}\".format(score))"
      ],
      "metadata": {
        "colab": {
          "base_uri": "https://localhost:8080/"
        },
        "id": "U3rmKO6QU4De",
        "outputId": "5a29e0e2-df6b-48b8-dde5-1f25c03215dc"
      },
      "execution_count": null,
      "outputs": [
        {
          "output_type": "stream",
          "name": "stdout",
          "text": [
            "Model Accuracy : 0.3915903890160183\n"
          ]
        }
      ]
    },
    {
      "cell_type": "code",
      "source": [
        "from sklearn.metrics import classification_report\n",
        "\n",
        "print(\"Classification Reports : \\n\")\n",
        "print(classification_report(y_test, y_pred))"
      ],
      "metadata": {
        "id": "Zu3HG8NjtFxM"
      },
      "execution_count": null,
      "outputs": []
    },
    {
      "cell_type": "code",
      "source": [
        "from sklearn.metrics import classification_report\n",
        "\n",
        "print(\"Classification Reports : \\n\")\n",
        "print(classification_report(y_test, y_pred))"
      ],
      "metadata": {
        "colab": {
          "base_uri": "https://localhost:8080/"
        },
        "id": "VMgNjVlWmLdS",
        "outputId": "1eb842fc-eaf0-4a34-cefe-650b25d0884d"
      },
      "execution_count": null,
      "outputs": [
        {
          "output_type": "stream",
          "name": "stdout",
          "text": [
            "Classification Reports : \n",
            "\n",
            "              precision    recall  f1-score   support\n",
            "\n",
            "         ATT       0.31      0.17      0.22       999\n",
            "         DEF       0.27      0.06      0.09       932\n",
            "          GK       0.00      0.00      0.00       131\n",
            "         MID       0.42      0.80      0.55      1434\n",
            "\n",
            "    accuracy                           0.39      3496\n",
            "   macro avg       0.25      0.26      0.21      3496\n",
            "weighted avg       0.33      0.39      0.31      3496\n",
            "\n"
          ]
        },
        {
          "output_type": "stream",
          "name": "stderr",
          "text": [
            "/usr/local/lib/python3.7/dist-packages/sklearn/metrics/_classification.py:1318: UndefinedMetricWarning: Precision and F-score are ill-defined and being set to 0.0 in labels with no predicted samples. Use `zero_division` parameter to control this behavior.\n",
            "  _warn_prf(average, modifier, msg_start, len(result))\n",
            "/usr/local/lib/python3.7/dist-packages/sklearn/metrics/_classification.py:1318: UndefinedMetricWarning: Precision and F-score are ill-defined and being set to 0.0 in labels with no predicted samples. Use `zero_division` parameter to control this behavior.\n",
            "  _warn_prf(average, modifier, msg_start, len(result))\n",
            "/usr/local/lib/python3.7/dist-packages/sklearn/metrics/_classification.py:1318: UndefinedMetricWarning: Precision and F-score are ill-defined and being set to 0.0 in labels with no predicted samples. Use `zero_division` parameter to control this behavior.\n",
            "  _warn_prf(average, modifier, msg_start, len(result))\n"
          ]
        }
      ]
    }
  ]
}